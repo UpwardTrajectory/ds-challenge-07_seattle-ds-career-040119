{
 "cells": [
  {
   "cell_type": "code",
   "execution_count": 1,
   "metadata": {},
   "outputs": [],
   "source": [
    "#!pip install beautifulsoup\n",
    "#!wget https://dumps.wikimedia.org/enwiki/20190420/enwiki-20190420-pages-articles-multistream1.xml-p10p30302.bz2\n",
    "#!bunzip2 enwiki-20190420-pages-articles-multistream1.xml-p10p30302.bz2    "
   ]
  },
  {
   "cell_type": "code",
   "execution_count": 2,
   "metadata": {},
   "outputs": [
    {
     "name": "stdout",
     "output_type": "stream",
     "text": [
      " 4586335 74563548 642819893 enwiki-20190420-pages-articles-multistream1.xml-p10p30302\n"
     ]
    }
   ],
   "source": [
    "# Count lines, words, characters in XML data file\n",
    "!wc enwiki-20190420-pages-articles-multistream1.xml-p10p30302"
   ]
  },
  {
   "cell_type": "code",
   "execution_count": 1,
   "metadata": {},
   "outputs": [
    {
     "name": "stdout",
     "output_type": "stream",
     "text": [
      " 4586335 74563548 642819893 enwiki-20190420-pages-articles-multistream1.xml-p10p30302\n"
     ]
    }
   ],
   "source": [
    "!wc enwiki-20190420-pages-articles-multistream1.xml-p10p30302"
   ]
  },
  {
   "cell_type": "code",
   "execution_count": 2,
   "metadata": {},
   "outputs": [],
   "source": [
    "from bs4 import BeautifulSoup\n",
    "import pandas as pd"
   ]
  },
  {
   "cell_type": "code",
   "execution_count": 3,
   "metadata": {},
   "outputs": [],
   "source": [
    "def get_pages_from_xml_file(filename, start_tag='<page>', end_tag='</page>'):\n",
    "    \"\"\"Yields each page from the specified XML data file.\"\"\"\n",
    "    page = None\n",
    "    with open(filename) as f:\n",
    "        for line in f:\n",
    "            if start_tag in line:\n",
    "                page = []\n",
    "                page.append(line)\n",
    "            elif end_tag in line:\n",
    "                page.append(line)\n",
    "                page_xml = ''.join(page)\n",
    "                yield page_xml\n",
    "                page = None\n",
    "            else:\n",
    "                if page is not None:\n",
    "                    page.append(line)"
   ]
  },
  {
   "cell_type": "code",
   "execution_count": 4,
   "metadata": {},
   "outputs": [],
   "source": [
    "filename = 'enwiki-20190420-pages-articles-multistream1.xml-p10p30302'\n",
    "pages = list(get_pages_from_xml_file(filename))"
   ]
  },
  {
   "cell_type": "code",
   "execution_count": 5,
   "metadata": {},
   "outputs": [],
   "source": [
    "def get_title_from_page_xml(page_xml):\n",
    "    \"\"\"Returns the title of the given page.\"\"\"\n",
    "    soup = BeautifulSoup(page_xml, 'lxml')\n",
    "    return soup.select_one('title').text"
   ]
  },
  {
   "cell_type": "code",
   "execution_count": 6,
   "metadata": {
    "scrolled": true
   },
   "outputs": [
    {
     "data": {
      "text/plain": [
       "19822"
      ]
     },
     "execution_count": 6,
     "metadata": {},
     "output_type": "execute_result"
    }
   ],
   "source": [
    "len(pages)  # Show the number of pages"
   ]
  },
  {
   "cell_type": "code",
   "execution_count": 7,
   "metadata": {
    "scrolled": true
   },
   "outputs": [
    {
     "name": "stdout",
     "output_type": "stream",
     "text": [
      "CPU times: user 42.4 s, sys: 4.31 s, total: 46.7 s\n",
      "Wall time: 48.9 s\n"
     ]
    }
   ],
   "source": [
    "%time titles = [get_title_from_page_xml(page) for page in pages]"
   ]
  },
  {
   "cell_type": "code",
   "execution_count": 8,
   "metadata": {},
   "outputs": [
    {
     "data": {
      "text/plain": [
       "['AccessibleComputing',\n",
       " 'Anarchism',\n",
       " 'AfghanistanHistory',\n",
       " 'AfghanistanGeography',\n",
       " 'AfghanistanPeople',\n",
       " '...',\n",
       " 'The Lord of the Rings/One Ring',\n",
       " 'Tax Freedom Day',\n",
       " 'Tax',\n",
       " 'Transhumanism',\n",
       " 'TARDIS']"
      ]
     },
     "execution_count": 8,
     "metadata": {},
     "output_type": "execute_result"
    }
   ],
   "source": [
    "titles[:5] + ['...'] + titles[-5:]  # Show the first and last 5 titles"
   ]
  },
  {
   "cell_type": "code",
   "execution_count": 14,
   "metadata": {},
   "outputs": [
    {
     "name": "stdout",
     "output_type": "stream",
     "text": [
      "  <page>\n",
      "    <title>AfghanistanGeography</title>\n",
      "    <ns>0</ns>\n",
      "    <id>14</id>\n",
      "    <redirect title=\"Geography of Afghanistan\" />\n",
      "    <revision>\n",
      "      <id>783865160</id>\n",
      "      <parentid>407008307</parentid>\n",
      "      <timestamp>2017-06-05T04:18:23Z</timestamp>\n",
      "      <contributor>\n",
      "        <username>Tom.Reding</username>\n",
      "        <id>9784415</id>\n",
      "      </contributor>\n",
      "      <minor />\n",
      "      <comment>+{{Redirect category shell}} using [[Project:AWB|AWB]]</comment>\n",
      "      <model>wikitext</model>\n",
      "      <format>text/x-wiki</format>\n",
      "      <text xml:space=\"preserve\">#REDIRECT [[Geography of Afghanistan]]\n",
      "\n",
      "{{Redirect category shell|1=\n",
      "{{R from CamelCase}}\n",
      "}}</text>\n",
      "      <sha1>39r4w8qg62iexlyskf0ga3tblagtl8x</sha1>\n",
      "    </revision>\n",
      "  </page>\n",
      "\n"
     ]
    }
   ],
   "source": [
    "print(pages[3])  # Print the first page"
   ]
  },
  {
   "cell_type": "code",
   "execution_count": 24,
   "metadata": {},
   "outputs": [],
   "source": [
    "def get_text_from_page_xml(page):\n",
    "    \"\"\"Returns the text of the given page.\"\"\"\n",
    "    soup = BeautifulSoup(page, 'lxml')\n",
    "    return soup.select_one('text').text"
   ]
  },
  {
   "cell_type": "code",
   "execution_count": 25,
   "metadata": {},
   "outputs": [
    {
     "data": {
      "text/plain": [
       "'#REDIRECT [[Computer accessibility]]\\n\\n{{R from move}}\\n{{R from CamelCase}}\\n{{R unprintworthy}}'"
      ]
     },
     "execution_count": 25,
     "metadata": {},
     "output_type": "execute_result"
    }
   ],
   "source": [
    "#BeautifulSoup()\n",
    "get_text_from_page_xml(pages[0])"
   ]
  },
  {
   "cell_type": "code",
   "execution_count": 26,
   "metadata": {},
   "outputs": [
    {
     "data": {
      "text/plain": [
       "('#REDIRECT [[Computer accessibility]]\\n\\n{{R from move}}\\n{{R from CamelCase}}\\n{{R unprintworthy}}',\n",
       " str)"
      ]
     },
     "execution_count": 26,
     "metadata": {},
     "output_type": "execute_result"
    }
   ],
   "source": [
    "page = pages[0]\n",
    "soup = BeautifulSoup(page, 'lxml')\n",
    "text = get_text_from_page_xml(page)\n",
    "text, type(text)"
   ]
  },
  {
   "cell_type": "code",
   "execution_count": 27,
   "metadata": {},
   "outputs": [],
   "source": [
    "data = []\n",
    "for page in pages:\n",
    "    row = {\n",
    "        'title': get_title_from_page_xml(page),\n",
    "        'text': get_text_from_page_xml(page),\n",
    "    }\n",
    "    data.append(row)"
   ]
  },
  {
   "cell_type": "code",
   "execution_count": 29,
   "metadata": {},
   "outputs": [
    {
     "data": {
      "text/plain": [
       "{'title': 'AfghanistanTransnationalIssues',\n",
       " 'text': '#REDIRECT [[Foreign relations of Afghanistan]]\\n\\n{{Redirect category shell|1=\\n {{R from CamelCase}}\\n}}'}"
      ]
     },
     "execution_count": 29,
     "metadata": {},
     "output_type": "execute_result"
    }
   ],
   "source": [
    "data[8]"
   ]
  },
  {
   "cell_type": "code",
   "execution_count": 30,
   "metadata": {},
   "outputs": [
    {
     "data": {
      "text/html": [
       "<div>\n",
       "<style scoped>\n",
       "    .dataframe tbody tr th:only-of-type {\n",
       "        vertical-align: middle;\n",
       "    }\n",
       "\n",
       "    .dataframe tbody tr th {\n",
       "        vertical-align: top;\n",
       "    }\n",
       "\n",
       "    .dataframe thead th {\n",
       "        text-align: right;\n",
       "    }\n",
       "</style>\n",
       "<table border=\"1\" class=\"dataframe\">\n",
       "  <thead>\n",
       "    <tr style=\"text-align: right;\">\n",
       "      <th></th>\n",
       "      <th>text</th>\n",
       "      <th>title</th>\n",
       "    </tr>\n",
       "  </thead>\n",
       "  <tbody>\n",
       "    <tr>\n",
       "      <th>0</th>\n",
       "      <td>#REDIRECT [[Computer accessibility]]\\n\\n{{R fr...</td>\n",
       "      <td>AccessibleComputing</td>\n",
       "    </tr>\n",
       "    <tr>\n",
       "      <th>1</th>\n",
       "      <td>{{redirect2|Anarchist|Anarchists|the fictional...</td>\n",
       "      <td>Anarchism</td>\n",
       "    </tr>\n",
       "    <tr>\n",
       "      <th>2</th>\n",
       "      <td>#REDIRECT [[History of Afghanistan]]\\n\\n{{Redi...</td>\n",
       "      <td>AfghanistanHistory</td>\n",
       "    </tr>\n",
       "    <tr>\n",
       "      <th>3</th>\n",
       "      <td>#REDIRECT [[Geography of Afghanistan]]\\n\\n{{Re...</td>\n",
       "      <td>AfghanistanGeography</td>\n",
       "    </tr>\n",
       "    <tr>\n",
       "      <th>4</th>\n",
       "      <td>#REDIRECT [[Demographics of Afghanistan]]\\n\\n{...</td>\n",
       "      <td>AfghanistanPeople</td>\n",
       "    </tr>\n",
       "  </tbody>\n",
       "</table>\n",
       "</div>"
      ],
      "text/plain": [
       "                                                text                 title\n",
       "0  #REDIRECT [[Computer accessibility]]\\n\\n{{R fr...   AccessibleComputing\n",
       "1  {{redirect2|Anarchist|Anarchists|the fictional...             Anarchism\n",
       "2  #REDIRECT [[History of Afghanistan]]\\n\\n{{Redi...    AfghanistanHistory\n",
       "3  #REDIRECT [[Geography of Afghanistan]]\\n\\n{{Re...  AfghanistanGeography\n",
       "4  #REDIRECT [[Demographics of Afghanistan]]\\n\\n{...     AfghanistanPeople"
      ]
     },
     "execution_count": 30,
     "metadata": {},
     "output_type": "execute_result"
    }
   ],
   "source": [
    "df = pd.DataFrame(data)\n",
    "df.head()"
   ]
  },
  {
   "cell_type": "markdown",
   "metadata": {},
   "source": [
    "### Challenge"
   ]
  },
  {
   "cell_type": "markdown",
   "metadata": {},
   "source": [
    "#### 1. Create a Pandas dataframe containing the title and text of each page.\n",
    "\n",
    "* Implement the `get_text_from_page_xml` function above.\n",
    "* Re-create the dataframe with the text field filled in.\n",
    "\n",
    "#### 2. Identify the five pages that have the _longest_ text.\n",
    "\n",
    "* Find the length of each page's `<text>...</text>` element and add it to your dataframe.\n",
    "* Sort the data frame by text length, descending.\n",
    "* What are the titles of the five longest articles?"
   ]
  },
  {
   "cell_type": "code",
   "execution_count": 31,
   "metadata": {},
   "outputs": [],
   "source": [
    "df['text_char_length'] = df['text'].map(lambda x:len(x))"
   ]
  },
  {
   "cell_type": "code",
   "execution_count": 34,
   "metadata": {},
   "outputs": [],
   "source": [
    "df = df.sort_values('text_char_length', ascending=False).copy()"
   ]
  },
  {
   "cell_type": "code",
   "execution_count": 44,
   "metadata": {},
   "outputs": [],
   "source": [
    "titles_of_longest_5 = list(df['title'][:5].values)"
   ]
  },
  {
   "cell_type": "code",
   "execution_count": 45,
   "metadata": {},
   "outputs": [
    {
     "data": {
      "text/plain": [
       "['List of compositions by Johann Sebastian Bach',\n",
       " 'Pakistan',\n",
       " 'Philippines',\n",
       " 'Foreign relations of India',\n",
       " 'History of India']"
      ]
     },
     "execution_count": 45,
     "metadata": {},
     "output_type": "execute_result"
    }
   ],
   "source": [
    "titles_of_longest_5"
   ]
  },
  {
   "cell_type": "code",
   "execution_count": null,
   "metadata": {},
   "outputs": [],
   "source": []
  }
 ],
 "metadata": {
  "kernelspec": {
   "display_name": "Python 3",
   "language": "python",
   "name": "python3"
  },
  "language_info": {
   "codemirror_mode": {
    "name": "ipython",
    "version": 3
   },
   "file_extension": ".py",
   "mimetype": "text/x-python",
   "name": "python",
   "nbconvert_exporter": "python",
   "pygments_lexer": "ipython3",
   "version": "3.7.1"
  }
 },
 "nbformat": 4,
 "nbformat_minor": 2
}
